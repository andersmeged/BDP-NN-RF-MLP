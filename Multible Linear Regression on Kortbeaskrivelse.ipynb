{
 "cells": [
  {
   "cell_type": "code",
   "execution_count": 1,
   "id": "0ec5da9c",
   "metadata": {},
   "outputs": [
    {
     "name": "stderr",
     "output_type": "stream",
     "text": [
      "C:\\Users\\ander\\anaconda3\\envs\\BDP\\lib\\site-packages\\IPython\\core\\interactiveshell.py:3166: DtypeWarning: Columns (12,15) have mixed types.Specify dtype option on import or set low_memory=False.\n",
      "  interactivity=interactivity, compiler=compiler, result=result)\n"
     ]
    }
   ],
   "source": [
    "import pandas as pd \n",
    "import seaborn as sns\n",
    "import matplotlib.pyplot as plt\n",
    "from sklearn.metrics import r2_score\n",
    "from sklearn.model_selection import train_test_split\n",
    "from sklearn import preprocessing\n",
    "\n",
    "df = pd.read_csv('master_dataset.csv', sep='\\t', encoding='utf-8')\n",
    "\n",
    "df.dropna(subset = [\"status\", \"branchetekst\", \"_source.Vrvirksomhed.virksomhedMetadata.nyesteBeliggenhedsadresse.kommune.kommuneNavn\"], inplace=True)\n",
    "del df['_index']\n",
    "df = df.replace({'IVS': 0})\n",
    "df = df.replace({'K/S': 0})\n",
    "df = df.replace({'APS': 1})\n",
    "df = df.replace({'A/S': 0})\n",
    "df = df.replace({'KAS': 0})\n",
    "df = df.replace({'FAP': 0})\n",
    "df = df.replace({'EFO': 0})\n",
    "df = df.replace({'I/S': 0})\n",
    "df = df.replace({'FAS': 0})\n",
    "df = df.replace({'FMA': 0})\n",
    "df = df.replace({'FBA': 0})\n",
    "df = df.replace({'ABA': 0})\n",
    "df = df.replace({'FIV': 0})\n",
    "df = df.replace({'SCE': 0})\n",
    "df = df.replace({'MSS': 0})\n",
    "df = df.replace({'FOR': 0})\n",
    "\n",
    "df['date_time']=pd.to_datetime(df['_source.Vrvirksomhed.virksomhedMetadata.stiftelsesDato'], format='%Y-%m-%d')\n",
    "df['Day_year'] = df['date_time'].dt.year\n",
    "df['Day_month'] = df['date_time'].dt.month\n",
    "\n",
    "#Kun features ikke y\n",
    "X = df[['status', 'Day_month', 'Day_year', '_source.Vrvirksomhed.virksomhedMetadata.nyesteBeliggenhedsadresse.kommune.kommuneNavn', 'branchekode']]\n",
    "#Target\n",
    "y = df['_source.Vrvirksomhed.virksomhedMetadata.nyesteVirksomhedsform.kortBeskrivelse']\n",
    "\n"
   ]
  },
  {
   "cell_type": "code",
   "execution_count": 2,
   "id": "571d6902",
   "metadata": {},
   "outputs": [],
   "source": [
    "from sklearn import preprocessing\n",
    "\n",
    "# label_encoder object knows how to understand word labels.\n",
    "label_encoder = preprocessing.LabelEncoder()\n",
    "\n",
    "# Encode labels in column 'species'.\n",
    "y = label_encoder.fit_transform(y)\n",
    "\n",
    "X_train, X_test, y_train, y_test = train_test_split(X, y, test_size=0.20, random_state=42)\n"
   ]
  },
  {
   "cell_type": "code",
   "execution_count": 3,
   "id": "0c466268",
   "metadata": {},
   "outputs": [],
   "source": [
    "y_test2 =[]\n",
    "for i in y_test:\n",
    "    y_test2.append(i)\n",
    "\n",
    "y_train2 =[]\n",
    "for x in y_train:\n",
    "    y_train2.append(x)\n",
    " "
   ]
  },
  {
   "cell_type": "code",
   "execution_count": 4,
   "id": "10eb2a45",
   "metadata": {},
   "outputs": [
    {
     "name": "stderr",
     "output_type": "stream",
     "text": [
      "C:\\Users\\ander\\anaconda3\\envs\\BDP\\lib\\site-packages\\sklearn\\utils\\validation.py:63: DataConversionWarning: A column-vector y was passed when a 1d array was expected. Please change the shape of y to (n_samples, ), for example using ravel().\n",
      "  return f(*args, **kwargs)\n"
     ]
    }
   ],
   "source": [
    "import numpy as np\n",
    "\n",
    "X2_train_kb = X_train[['status']].values\n",
    "X2_train_m = X_train[['Day_month']].values\n",
    "X2_train_y = X_train[['Day_year']].values\n",
    "X2_train_bynavn = X_train[['_source.Vrvirksomhed.virksomhedMetadata.nyesteBeliggenhedsadresse.kommune.kommuneNavn']].values\n",
    "X2_train_KODE = X_train[['branchekode']].values\n",
    "\n",
    "X2_test_kb = X_test[['status']].values\n",
    "X2_test_m = X_test[['Day_month']].values\n",
    "X2_test_y = X_test[['Day_year']].values\n",
    "X2_test_bynavn = X_test[['_source.Vrvirksomhed.virksomhedMetadata.nyesteBeliggenhedsadresse.kommune.kommuneNavn']].values\n",
    "X2_test_KODE = X_test[['branchekode']].values\n",
    "\n",
    "from sklearn import preprocessing\n",
    "\n",
    "# label_encoder object knows how to understand word labels.\n",
    "label_encoder = preprocessing.LabelEncoder()\n",
    "\n",
    "# Encode labels in column 'species'.\n",
    "X2_train_bynavn = label_encoder.fit_transform(X2_train_bynavn)\n",
    "X2_train_m = label_encoder.fit_transform(X2_train_m)\n",
    "X2_train_y = label_encoder.fit_transform(X2_train_y)\n",
    "X2_train_kb = label_encoder.fit_transform(X2_train_kb)\n",
    "X2_train_ko = label_encoder.fit_transform(X2_train_KODE)\n",
    "\n",
    "X2_test_bynavn = label_encoder.fit_transform(X2_test_bynavn)\n",
    "X2_test_m = label_encoder.fit_transform(X2_test_m)\n",
    "X2_test_y = label_encoder.fit_transform(X2_test_y)\n",
    "X2_test_kb = label_encoder.fit_transform(X2_test_kb)\n",
    "X2_test_ko = label_encoder.fit_transform(X2_test_KODE)\n",
    "\n",
    "\n",
    "\n",
    "\n",
    "X2_train = np.dstack((X2_train_bynavn, X2_train_kb, X2_train_m, X2_train_y, X2_train_ko))\n",
    "X2_test = np.dstack((X2_test_bynavn, X2_test_kb, X2_test_m, X2_test_y, X2_test_ko))\n",
    "\n",
    "#Preperation over"
   ]
  },
  {
   "cell_type": "code",
   "execution_count": 5,
   "id": "6eecaaa4",
   "metadata": {},
   "outputs": [],
   "source": [
    "X2_train = np.reshape(X2_train, (110030,5)) \n",
    "X2_test = np.reshape(X2_test, (27508,5)) \n",
    "\n",
    "dataset2 = np.dstack((X2_test_bynavn, X2_test_kb, X2_test_m, X2_test_y, X2_test_ko, y_test2))\n",
    "dataset = np.dstack((X2_train_bynavn, X2_train_kb, X2_train_m, X2_train_y, X2_train_ko, y_train2))"
   ]
  },
  {
   "cell_type": "code",
   "execution_count": 6,
   "id": "a7cf028a",
   "metadata": {
    "scrolled": true
   },
   "outputs": [],
   "source": [
    "dataset2 = np.reshape(dataset2, (27508,6))\n",
    "dataset = np.reshape(dataset, (110030,6))\n",
    "dataset2.shape\n",
    "df2 = pd.DataFrame(np.array(dataset), columns=['1', '2', '3', '4', '5', '6'])\n",
    "df3 = pd.DataFrame(np.array(dataset2), columns=['1', '2', '3', '4', '5', '6'])\n",
    "dataset = pd.concat([df2,df3], ignore_index=True)\n"
   ]
  },
  {
   "cell_type": "code",
   "execution_count": 7,
   "id": "81b4f8c3",
   "metadata": {},
   "outputs": [],
   "source": [
    "#StandardScaler\n",
    "from sklearn.preprocessing import StandardScaler\n",
    "Sc = StandardScaler()\n",
    "dataset = Sc.fit_transform(dataset)\n",
    "X2_train = Sc.fit_transform(X2_train)\n",
    "X2_test = Sc.fit_transform(X2_test)\n"
   ]
  },
  {
   "cell_type": "code",
   "execution_count": 8,
   "id": "e836ec39",
   "metadata": {},
   "outputs": [
    {
     "data": {
      "text/plain": [
       "0.20659"
      ]
     },
     "execution_count": 8,
     "metadata": {},
     "output_type": "execute_result"
    }
   ],
   "source": [
    "#Import linear regression\n",
    "from sklearn.linear_model import LinearRegression\n",
    "#Assign function to variable\n",
    "model_multiple= LinearRegression()\n",
    "model_multiple.fit(X2_train,y_train)\n",
    "accuracy_test_multiple = round(model_multiple.score(X2_test,y_test),5)\n",
    "accuracy_test_multiple"
   ]
  },
  {
   "cell_type": "code",
   "execution_count": 9,
   "id": "8be54c96",
   "metadata": {},
   "outputs": [
    {
     "data": {
      "text/plain": [
       "array([ 0.01256156, -0.0909745 ,  0.07565155,  0.16312846,  0.00092192])"
      ]
     },
     "execution_count": 9,
     "metadata": {},
     "output_type": "execute_result"
    }
   ],
   "source": [
    "model_multiple.coef_"
   ]
  },
  {
   "cell_type": "code",
   "execution_count": 10,
   "id": "9a31288e",
   "metadata": {},
   "outputs": [],
   "source": [
    "# Import statsmodels to dive into the statistical aspect of modeling\n",
    "import statsmodels.api as sm\n",
    "from scipy import stats"
   ]
  },
  {
   "cell_type": "code",
   "execution_count": 11,
   "id": "e602fdf1",
   "metadata": {},
   "outputs": [],
   "source": [
    "# create the ols model and fit it on the train data\n",
    "model_ols = sm.OLS(endog = y_train.astype(int), exog = X2_train.astype(int)).fit()"
   ]
  },
  {
   "cell_type": "code",
   "execution_count": 12,
   "id": "915e38f4",
   "metadata": {},
   "outputs": [],
   "source": [
    "# get the model's residuals\n",
    "residuals = model_ols.resid\n",
    "#get the fitted values \n",
    "fitted_values = model_ols.fittedvalues"
   ]
  },
  {
   "cell_type": "code",
   "execution_count": 13,
   "id": "11a7a995",
   "metadata": {},
   "outputs": [
    {
     "name": "stderr",
     "output_type": "stream",
     "text": [
      "C:\\Users\\ander\\anaconda3\\envs\\BDP\\lib\\site-packages\\seaborn\\_decorators.py:43: FutureWarning: Pass the following variables as keyword args: x, y. From version 0.12, the only valid positional argument will be `data`, and passing other arguments without an explicit keyword will result in an error or misinterpretation.\n",
      "  FutureWarning\n"
     ]
    },
    {
     "data": {
      "image/png": "[encoded data removed]",
      "text/plain": [
       "<Figure size 2016x1152 with 1 Axes>"
      ]
     },
     "metadata": {
      "needs_background": "light"
     },
     "output_type": "display_data"
    }
   ],
   "source": [
    "plt.figure(figsize=(28,16)) \n",
    "\n",
    "ax = sns.residplot(fitted_values, residuals)\n",
    "\n",
    "ax.set_title('Residuals vs Fitted Values')\n",
    "ax.set_xlabel('Fitted Values')\n",
    "ax.set_ylabel('Residuals')\n",
    "\n",
    "plt.show()"
   ]
  },
  {
   "cell_type": "code",
   "execution_count": 14,
   "id": "3822091a",
   "metadata": {},
   "outputs": [
    {
     "name": "stdout",
     "output_type": "stream",
     "text": [
      "67701.73914425565\n"
     ]
    }
   ],
   "source": [
    "print(model_ols.ssr)"
   ]
  },
  {
   "cell_type": "code",
   "execution_count": 15,
   "id": "45c49b46",
   "metadata": {},
   "outputs": [],
   "source": [
    "#PCA\n",
    "x2=X2_train\n",
    "y_PCA=y_train"
   ]
  },
  {
   "cell_type": "code",
   "execution_count": 16,
   "id": "ceb9196d",
   "metadata": {},
   "outputs": [
    {
     "data": {
      "image/png": "[encoded data removed]",
      "text/plain": [
       "<Figure size 432x288 with 1 Axes>"
      ]
     },
     "metadata": {
      "needs_background": "light"
     },
     "output_type": "display_data"
    }
   ],
   "source": [
    "from sklearn.decomposition import PCA\n",
    "pca = PCA().fit(dataset)\n",
    "plt.plot(np.cumsum(pca.explained_variance_ratio_))\n",
    "plt.xlabel('number of components')\n",
    "plt.ylabel('cumulative explained variance');"
   ]
  }
 ],
 "metadata": {
  "kernelspec": {
   "display_name": "Python 3",
   "language": "python",
   "name": "python3"
  },
  "language_info": {
   "codemirror_mode": {
    "name": "ipython",
    "version": 3
   },
   "file_extension": ".py",
   "mimetype": "text/x-python",
   "name": "python",
   "nbconvert_exporter": "python",
   "pygments_lexer": "ipython3",
   "version": "3.7.10"
  }
 },
 "nbformat": 4,
 "nbformat_minor": 5
}
