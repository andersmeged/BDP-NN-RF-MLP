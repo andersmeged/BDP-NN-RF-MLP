{
 "cells": [
  {
   "cell_type": "code",
   "execution_count": 1,
   "id": "9029a72d",
   "metadata": {},
   "outputs": [
    {
     "name": "stderr",
     "output_type": "stream",
     "text": [
      "C:\\Users\\ander\\anaconda3\\envs\\BDP\\lib\\site-packages\\IPython\\core\\interactiveshell.py:3166: DtypeWarning: Columns (12,15) have mixed types.Specify dtype option on import or set low_memory=False.\n",
      "  interactivity=interactivity, compiler=compiler, result=result)\n"
     ]
    }
   ],
   "source": [
    "import tensorflow as tf \n",
    "import random \n",
    "import numpy as np \n",
    "import pandas as pd \n",
    "import matplotlib.image as mpimg \n",
    "import matplotlib.pyplot as plt \n",
    "import io \n",
    "from sklearn.model_selection import train_test_split\n",
    "from sklearn.utils import shuffle \n",
    "from tensorflow.keras.preprocessing.text import Tokenizer\n",
    "from tensorflow.keras.preprocessing.sequence import pad_sequences \n",
    "from tensorflow.keras.utils import to_categorical \n",
    "from tensorflow.keras import regularizers \n",
    "from tensorflow.keras import backend as K \n",
    "K.clear_session() \n",
    "\n",
    "import pandas as pd\n",
    "\n",
    "df = pd.read_csv('master_dataset.csv', sep='\\t', encoding='utf-8')\n",
    "\n",
    "df.dropna(subset = [\"status\", \"branchetekst\", \"_source.Vrvirksomhed.virksomhedMetadata.nyesteBeliggenhedsadresse.kommune.kommuneNavn\"], inplace=True)\n",
    "\n",
    "df = df.replace({'IVS': 0})\n",
    "df = df.replace({'K/S': 0})\n",
    "df = df.replace({'APS': 1})\n",
    "df = df.replace({'A/S': 0})\n",
    "df = df.replace({'KAS': 0})\n",
    "df = df.replace({'FAP': 0})\n",
    "df = df.replace({'EFO': 0})\n",
    "df = df.replace({'I/S': 0})\n",
    "df = df.replace({'FAS': 0})\n",
    "df = df.replace({'FMA': 0})\n",
    "df = df.replace({'FBA': 0})\n",
    "df = df.replace({'ABA': 0})\n",
    "df = df.replace({'FIV': 0})\n",
    "df = df.replace({'SCE': 0})\n",
    "df = df.replace({'MSS': 0})\n",
    "df = df.replace({'FOR': 0})\n",
    "\n",
    "df['date_time']=pd.to_datetime(df['_source.Vrvirksomhed.virksomhedMetadata.stiftelsesDato'], format='%Y-%m-%d')\n",
    "df['Day_year'] = df['date_time'].dt.year\n",
    "df['Day_month'] = df['date_time'].dt.month\n",
    "\n",
    "neg = len(df[df['_source.Vrvirksomhed.virksomhedMetadata.nyesteVirksomhedsform.kortBeskrivelse'] == 0])\n",
    "pos = len(df[df['_source.Vrvirksomhed.virksomhedMetadata.nyesteVirksomhedsform.kortBeskrivelse'] == 1]) \n",
    "total = df['_source.Vrvirksomhed.virksomhedMetadata.nyesteVirksomhedsform.kortBeskrivelse'].count()"
   ]
  },
  {
   "cell_type": "code",
   "execution_count": 2,
   "id": "61225f16",
   "metadata": {},
   "outputs": [
    {
     "name": "stdout",
     "output_type": "stream",
     "text": [
      "Weight for class 0: 1.73\n",
      "Weight for class 1: 0.70\n"
     ]
    }
   ],
   "source": [
    "weight_for_0 = (1 / neg)*(total)/2.0 \n",
    "weight_for_1 = (1 / pos)*(total)/2.0\n",
    "\n",
    "class_weight = {0: weight_for_0, 1: weight_for_1}\n",
    "\n",
    "print('Weight for class 0: {:.2f}'.format(weight_for_0))\n",
    "print('Weight for class 1: {:.2f}'.format(weight_for_1))"
   ]
  },
  {
   "cell_type": "code",
   "execution_count": 3,
   "id": "f6a79530",
   "metadata": {},
   "outputs": [],
   "source": [
    "X = df.drop('_source.Vrvirksomhed.virksomhedMetadata.nyesteVirksomhedsform.kortBeskrivelse', axis=1)\n",
    "\n",
    "y = df['_source.Vrvirksomhed.virksomhedMetadata.nyesteVirksomhedsform.kortBeskrivelse']"
   ]
  },
  {
   "cell_type": "code",
   "execution_count": 4,
   "id": "4a894985",
   "metadata": {},
   "outputs": [],
   "source": [
    "from sklearn import preprocessing\n",
    "\n",
    "# label_encoder object knows how to understand word labels.\n",
    "label_encoder = preprocessing.LabelEncoder()\n",
    "\n",
    "# Encode labels in column 'species'.\n",
    "y = label_encoder.fit_transform(y)\n",
    "\n",
    "X_train, X_test, y_train, y_test = train_test_split(X, y, test_size=0.20, random_state=42)"
   ]
  },
  {
   "cell_type": "code",
   "execution_count": 5,
   "id": "633df16b",
   "metadata": {},
   "outputs": [],
   "source": [
    "def preprocess_text(sen):\n",
    "\n",
    "    # Remove punctuations and numbers\n",
    "    sentence = re.sub('[^a-zA-Z]', ' ', sen)\n",
    "\n",
    "    # Single character removal\n",
    "    sentence = re.sub(r\"\\s+[a-zA-Z]\\s+\", ' ', sentence)\n",
    "\n",
    "    # Removing multiple spaces\n",
    "    sentence = re.sub(r'\\s+', ' ', sentence)\n",
    "\n",
    "    return sentence"
   ]
  },
  {
   "cell_type": "code",
   "execution_count": 6,
   "id": "041fafb9",
   "metadata": {},
   "outputs": [],
   "source": [
    "import re\n",
    "X1_train = []\n",
    "sentences = list(X_train[\"branchetekst\"])\n",
    "for sen in sentences:\n",
    "    X1_train.append(preprocess_text(sen))"
   ]
  },
  {
   "cell_type": "code",
   "execution_count": 7,
   "id": "1e4ec022",
   "metadata": {},
   "outputs": [],
   "source": [
    "X1_test = []\n",
    "sentences = list(X_test[\"branchetekst\"])\n",
    "for sen in sentences:\n",
    "    X1_test.append(preprocess_text(sen))"
   ]
  },
  {
   "cell_type": "code",
   "execution_count": 8,
   "id": "0372d825",
   "metadata": {},
   "outputs": [],
   "source": [
    "tokenizer = Tokenizer()\n",
    "tokenizer.fit_on_texts(X1_train)\n",
    "\n",
    "X1_train = tokenizer.texts_to_sequences(X1_train)\n",
    "X1_test = tokenizer.texts_to_sequences(X1_test)\n",
    "word_index = tokenizer.word_index \n",
    "vocab_size = len(tokenizer.word_index) + 1\n",
    "\n",
    "maxlen = 8\n",
    "\n",
    "X1_train = pad_sequences(X1_train, padding='post', maxlen=maxlen)\n",
    "X1_test = pad_sequences(X1_test, padding='post', maxlen=maxlen)\n"
   ]
  },
  {
   "cell_type": "code",
   "execution_count": 9,
   "id": "4243073c",
   "metadata": {},
   "outputs": [
    {
     "name": "stdout",
     "output_type": "stream",
     "text": [
      "300\n",
      "(110030, 8)\n"
     ]
    }
   ],
   "source": [
    "embeddings_index = {}; \n",
    "with open('cc.da.300.vec', encoding=\"utf-8\") as f: \n",
    "    for line in f: \n",
    "        values = line.split(); \n",
    "        word = values[0]; \n",
    "        coefs = np.asarray(values[1:], dtype='float32'); \n",
    "        embeddings_index[word] = coefs; \n",
    "print(len(coefs))\n",
    " \n",
    "embeddings_matrix = np.zeros((vocab_size+1, 300)); \n",
    "for word, i in word_index.items(): \n",
    "    embedding_vector = embeddings_index.get(word); \n",
    "    if embedding_vector is not None: \n",
    "        embeddings_matrix[i] = embedding_vector;\n",
    "\n",
    "print(X1_train.shape)"
   ]
  },
  {
   "cell_type": "code",
   "execution_count": 10,
   "id": "3542faee",
   "metadata": {},
   "outputs": [],
   "source": [
    "X2_train_kb = X_train[['status']].values\n",
    "X2_train_m = X_train[['Day_month']].values\n",
    "X2_train_y = X_train[['Day_year']].values\n",
    "\n",
    "X2_train_bynavn = X_train[['_source.Vrvirksomhed.virksomhedMetadata.nyesteBeliggenhedsadresse.kommune.kommuneNavn']].values\n",
    "\n",
    "X2_test_kb = X_test[['status']].values\n",
    "X2_test_m = X_test[['Day_month']].values\n",
    "X2_test_y = X_test[['Day_year']].values\n",
    "X2_test_bynavn = X_test[['_source.Vrvirksomhed.virksomhedMetadata.nyesteBeliggenhedsadresse.kommune.kommuneNavn']].values\n",
    "\n"
   ]
  },
  {
   "cell_type": "code",
   "execution_count": 11,
   "id": "810636e7",
   "metadata": {},
   "outputs": [
    {
     "name": "stderr",
     "output_type": "stream",
     "text": [
      "C:\\Users\\ander\\anaconda3\\envs\\BDP\\lib\\site-packages\\sklearn\\utils\\validation.py:63: DataConversionWarning: A column-vector y was passed when a 1d array was expected. Please change the shape of y to (n_samples, ), for example using ravel().\n",
      "  return f(*args, **kwargs)\n"
     ]
    }
   ],
   "source": [
    "from sklearn import preprocessing\n",
    "\n",
    "# label_encoder object knows how to understand word labels.\n",
    "label_encoder = preprocessing.LabelEncoder()\n",
    "\n",
    "# Encode labels in column 'species'.\n",
    "X2_train_bynavn = label_encoder.fit_transform(X2_train_bynavn)\n",
    "X2_train_m = label_encoder.fit_transform(X2_train_m)\n",
    "X2_train_y = label_encoder.fit_transform(X2_train_y)\n",
    "\n",
    "X2_train_kb = label_encoder.fit_transform(X2_train_kb)\n",
    "\n",
    "X2_test_bynavn = label_encoder.fit_transform(X2_test_bynavn)\n",
    "X2_test_m = label_encoder.fit_transform(X2_test_m)\n",
    "X2_test_y = label_encoder.fit_transform(X2_test_y)\n",
    "\n",
    "X2_test_kb = label_encoder.fit_transform(X2_test_kb)\n",
    "\n",
    "X2_train = np.dstack((X2_train_bynavn,X2_train_kb, X2_train_m, X2_train_y))\n",
    "X2_test = np.dstack((X2_test_bynavn,X2_test_kb, X2_test_m, X2_test_y))\n",
    "\n"
   ]
  },
  {
   "cell_type": "code",
   "execution_count": 12,
   "id": "d38dfc39",
   "metadata": {},
   "outputs": [
    {
     "name": "stdout",
     "output_type": "stream",
     "text": [
      "(27508, 4)\n",
      "(110030, 4)\n"
     ]
    }
   ],
   "source": [
    "X2_train = np.reshape(X2_train, (110030,4)) \n",
    "X2_test = np.reshape(X2_test, (27508,4)) \n",
    "\n",
    "print(X2_test.shape)\n",
    "\n",
    "print(X2_train.shape)"
   ]
  },
  {
   "cell_type": "code",
   "execution_count": 13,
   "id": "43a2cc06",
   "metadata": {},
   "outputs": [],
   "source": [
    "#minMaxScaller\n",
    "from sklearn.preprocessing import MinMaxScaler\n",
    "mmx = MinMaxScaler()\n",
    "\n",
    "X2_train = mmx.fit_transform(X2_train)\n",
    "X2_test = mmx.fit_transform(X2_test)"
   ]
  },
  {
   "cell_type": "code",
   "execution_count": 14,
   "id": "f7a9b359",
   "metadata": {},
   "outputs": [],
   "source": [
    "import numpy as np\n",
    "import tensorflow as tf\n",
    "from tensorflow import keras\n",
    "from tensorflow.keras import layers\n",
    "import keras.models\n",
    "from keras.models import Model\n",
    "from keras.models import Sequential\n",
    "from keras.layers import Activation, Dense\n",
    "from tensorflow.keras.layers import InputLayer, Embedding, LSTM, Concatenate"
   ]
  },
  {
   "cell_type": "code",
   "execution_count": null,
   "id": "f01865de",
   "metadata": {},
   "outputs": [],
   "source": [
    "input_1 = keras.Input(shape=(maxlen,))\n",
    "input_2 = keras.Input(shape=(4,))\n",
    "\n",
    "embedding_layer = Embedding(vocab_size+1, 300, weights=[embeddings_matrix], trainable=False)(input_1)\n",
    "Model1 = LSTM(128)(embedding_layer)\n",
    "\n",
    "dense_layer_1 = Dense(10, activation='relu')(input_2)\n",
    "Model2 = Dense(10, activation='relu')(dense_layer_1)\n",
    "\n",
    "from keras.layers import Concatenate\n",
    "concat_layer = Concatenate()([Model1, Model2])\n",
    "dense_layer_3 = Dense(10, activation='relu')(concat_layer)\n",
    "output = Dense(1, activation='sigmoid')(dense_layer_3)\n",
    "model = Model(inputs=[input_1, input_2], outputs=output)\n",
    "\n",
    "model.compile(loss='binary_crossentropy', optimizer='adam', metrics=['acc'])\n",
    "print(model.summary())"
   ]
  },
  {
   "cell_type": "code",
   "execution_count": null,
   "id": "6c7bdefc",
   "metadata": {},
   "outputs": [],
   "source": [
    "history = model.fit(x=[X1_train, X2_train], y=y_train, batch_size=128, epochs=10, verbose=1, validation_split=0.2, class_weight=class_weight)"
   ]
  },
  {
   "cell_type": "code",
   "execution_count": 17,
   "id": "dc7629dc",
   "metadata": {},
   "outputs": [
    {
     "data": {
      "text/plain": [
       "Text(0.5, 1.0, 'Loss Curves')"
      ]
     },
     "execution_count": 17,
     "metadata": {},
     "output_type": "execute_result"
    },
    {
     "data": {
      "image/png": "[encoded data removed]",
      "text/plain": [
       "<Figure size 576x432 with 1 Axes>"
      ]
     },
     "metadata": {
      "needs_background": "light"
     },
     "output_type": "display_data"
    }
   ],
   "source": [
    "plt.figure(figsize=(8,6))\n",
    "plt.plot(history.history['loss'], 'black', linewidth=3.0)\n",
    "plt.plot(history.history['val_loss'], 'black', ls = '--', linewidth=3.0)\n",
    "plt.legend(['Training loss', 'Validation loss'], fontsize=10)\n",
    "plt.xlabel('Epochs', fontsize=16)\n",
    "plt.ylabel('Loss', fontsize=16)\n",
    "plt.title('Loss Curves', fontsize=16)"
   ]
  },
  {
   "cell_type": "code",
   "execution_count": 18,
   "id": "36a06c2e",
   "metadata": {},
   "outputs": [
    {
     "data": {
      "text/plain": [
       "array([0, 0, 1, ..., 0, 0, 1])"
      ]
     },
     "execution_count": 18,
     "metadata": {},
     "output_type": "execute_result"
    }
   ],
   "source": [
    "preds = model.predict([X1_test, X2_test])\n",
    "preds.mean()\n",
    "preds = np.array([1 if x >= 0.5 else 0 for x in preds])\n",
    "preds"
   ]
  },
  {
   "cell_type": "code",
   "execution_count": 19,
   "id": "126c0552",
   "metadata": {},
   "outputs": [
    {
     "data": {
      "text/plain": [
       "<AxesSubplot:xlabel='Predicted', ylabel='Actual'>"
      ]
     },
     "execution_count": 19,
     "metadata": {},
     "output_type": "execute_result"
    },
    {
     "data": {
      "image/png": "[encoded data removed]",
      "text/plain": [
       "<Figure size 720x504 with 2 Axes>"
      ]
     },
     "metadata": {
      "needs_background": "light"
     },
     "output_type": "display_data"
    }
   ],
   "source": [
    "from sklearn.metrics import confusion_matrix\n",
    "import seaborn as sn\n",
    "import matplotlib.pyplot as plt\n",
    "%matplotlib inline\n",
    "\n",
    "\n",
    "data = confusion_matrix(y_test, preds)\n",
    "df_cm = pd.DataFrame(data, columns=np.unique(y_test), index = np.unique(y_test))\n",
    "df_cm.index.name = 'Actual'\n",
    "df_cm.columns.name = 'Predicted'\n",
    "plt.figure(figsize = (10,7))\n",
    "sn.set(font_scale=1.4)#for label size\n",
    "sn.heatmap(df_cm, cmap=\"Blues\", annot=True,annot_kws={\"size\": 16})# font size"
   ]
  },
  {
   "cell_type": "code",
   "execution_count": 20,
   "id": "b327aeb8",
   "metadata": {},
   "outputs": [
    {
     "data": {
      "text/plain": [
       "array([[ 7162,   844],\n",
       "       [ 6785, 12717]], dtype=int64)"
      ]
     },
     "execution_count": 20,
     "metadata": {},
     "output_type": "execute_result"
    }
   ],
   "source": [
    "data"
   ]
  },
  {
   "cell_type": "code",
   "execution_count": null,
   "id": "526985e0",
   "metadata": {},
   "outputs": [],
   "source": []
  }
 ],
 "metadata": {
  "kernelspec": {
   "display_name": "Python 3",
   "language": "python",
   "name": "python3"
  },
  "language_info": {
   "codemirror_mode": {
    "name": "ipython",
    "version": 3
   },
   "file_extension": ".py",
   "mimetype": "text/x-python",
   "name": "python",
   "nbconvert_exporter": "python",
   "pygments_lexer": "ipython3",
   "version": "3.7.10"
  }
 },
 "nbformat": 4,
 "nbformat_minor": 5
}
